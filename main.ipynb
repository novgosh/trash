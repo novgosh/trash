{
 "cells": [
  {
   "cell_type": "code",
   "execution_count": 1,
   "metadata": {
    "collapsed": true
   },
   "outputs": [],
   "source": [
    "import numpy as np\n",
    "import random\n",
    "\n",
    "from IPython.display import Image\n",
    "from IPython.core.display import HTML "
   ]
  },
  {
   "cell_type": "code",
   "execution_count": 2,
   "metadata": {
    "collapsed": true
   },
   "outputs": [],
   "source": [
    "def generate_sequence(alphabet, length):\n",
    "    return [random.choice(alphabet) for i in range(length)]\n",
    "\n",
    "C = 20\n",
    "N1 = 35\n",
    "N2 = 37\n",
    "M1 = 33\n",
    "M2 = 41\n",
    "ALPHABET = ['A', 'B', 'C', 'D']"
   ]
  },
  {
   "cell_type": "markdown",
   "metadata": {},
   "source": [
    "# HW 2"
   ]
  },
  {
   "cell_type": "code",
   "execution_count": 3,
   "metadata": {
    "collapsed": false
   },
   "outputs": [
    {
     "name": "stdout",
     "output_type": "stream",
     "text": [
      "--A-B--CAA-DBD-CACBCCCACDAACDADDDBAAACBCCDCDDBDCBBAACDBDDDCACCDDBAC-ABADCCDCDABADADABBD-ACBB-ACACCD--AD---D\n",
      "DDCBBBDDAACDBDABACADCCACDAA-D-CDD----C-CC--DDBDCBBAACDBDDDCACC-DCACDAB-DDCBADACACCCA-BDAACBBDA-ACCDBBADBABB\n",
      "Equals = 64, gaps = 28. mismatches = 15\n",
      "Expected score = 29.800000000000004, real score = 29.799999999999997\n"
     ]
    }
   ],
   "source": [
    "def restore_ans(first, second, last, i, j):\n",
    "    if i or j:\n",
    "        i_last, j_last = last[i][j]\n",
    "        ans_first, ans_second = restore_ans(first, second, last, i_last, j_last)\n",
    "        if i == i_last:\n",
    "            ans_first += '-'\n",
    "        else:\n",
    "            ans_first += first[i - 1]\n",
    "        if j == j_last:\n",
    "            ans_second += '-'\n",
    "        else:\n",
    "            ans_second += second[j - 1]\n",
    "            \n",
    "        return ans_first, ans_second\n",
    "    else:\n",
    "        return '', ''\n",
    "\n",
    "def alignment(first, second, mu, delta):\n",
    "    n = len(first)\n",
    "    m = len(second)\n",
    "    dp = np.ones((n + 1, m + 1)) * (-np.inf)\n",
    "    last = np.empty((n + 1, m + 1), dtype=tuple)\n",
    "    \n",
    "    dp[0][0] = 0\n",
    "    \n",
    "    for i in range(n + 1):\n",
    "        for j in range(m + 1):\n",
    "            if i and j and first[i - 1] == second[j - 1] and dp[i][j] < dp[i - 1, j - 1] + 1:\n",
    "                dp[i][j] = dp[i - 1, j - 1] + 1\n",
    "                last[i][j] = (i - 1, j - 1)\n",
    "            \n",
    "            if i and j and dp[i][j] < dp[i - 1][j - 1] + delta:\n",
    "                dp[i][j] = dp[i - 1][j - 1] + delta\n",
    "                last[i][j] = (i - 1, j - 1)\n",
    "                \n",
    "            if i and dp[i][j] < dp[i - 1][j] + mu:\n",
    "                dp[i][j] = dp[i - 1][j] + mu\n",
    "                last[i][j] = (i - 1, j)\n",
    "                \n",
    "            if j and dp[i][j] < dp[i][j - 1] + mu:\n",
    "                dp[i][j] = dp[i][j - 1] + mu\n",
    "                last[i][j] = (i, j - 1)\n",
    "                \n",
    "    return dp[n][m], restore_ans(first, second, last, n, m)\n",
    "\n",
    "MU = -0.9\n",
    "DELTA = -0.6\n",
    "\n",
    "common = generate_sequence(ALPHABET, C)\n",
    "first = generate_sequence(ALPHABET, N1) + common + generate_sequence(ALPHABET, N2)\n",
    "second = generate_sequence(ALPHABET, M1) + common + generate_sequence(ALPHABET, M2)\n",
    "\n",
    "value, (first_ans, second_ans) = alignment(first, second, MU, DELTA)\n",
    "\n",
    "print(first_ans)\n",
    "print(second_ans)\n",
    "\n",
    "equals = 0\n",
    "gaps = 0\n",
    "mismatches = 0\n",
    "for i in range(len(first_ans)):\n",
    "    if first_ans[i] == second_ans[i]:\n",
    "        equals += 1\n",
    "    elif first_ans[i] == '-' or second_ans[i] == '-':\n",
    "        gaps += 1\n",
    "    else:\n",
    "        mismatches += 1\n",
    "        \n",
    "print('Equals = {}, gaps = {}. mismatches = {}'.format(equals, gaps, mismatches))\n",
    "print('Expected score = {}, real score = {}'.format(value, equals + gaps * MU + mismatches * DELTA))"
   ]
  },
  {
   "cell_type": "markdown",
   "metadata": {},
   "source": [
    "# HW 3"
   ]
  },
  {
   "cell_type": "code",
   "execution_count": 4,
   "metadata": {
    "collapsed": false
   },
   "outputs": [
    {
     "name": "stdout",
     "output_type": "stream",
     "text": [
      "  8  -5  -3  -3 \n",
      " -5  10  -4  -1 \n",
      " -3  -4   6  -3 \n",
      " -3  -1  -3   8 \n",
      " -2  -2  -5  -2 \n",
      "---BDCBADDBBDDDCDBDBDCA-CBD-CABC-CCDAABCDBACDACCDACBACDDDCABCCCD-A-CD----DABC--ADDDBCCCACDCA-CBABCBCCDCAAC-A-\n",
      "AAAB-CB---BBBACCC-CB-CABCBDACDBCAADDCA-C-BACDACCDACBACDDDCABCCBDBABBDBBABDABCBDABDD----A-DAABCB-B-BCCACACCDDB\n",
      "Equals = 61, gaps = 32. mismatches = 16\n",
      "Expected score = 349.0, real score = 349\n"
     ]
    }
   ],
   "source": [
    "def alignment_with_matrix(first, second, matr):\n",
    "    n = len(first)\n",
    "    m = len(second)\n",
    "    dp = np.ones((n + 1, m + 1)) * (-np.inf)\n",
    "    last = np.empty((n + 1, m + 1), dtype=tuple)\n",
    "    \n",
    "    dp[0][0] = 0\n",
    "    \n",
    "    for i in range(n + 1):\n",
    "        if i:\n",
    "            f = first[i - 1]\n",
    "        for j in range(m + 1):\n",
    "            if j:\n",
    "                s = second[j - 1]\n",
    "                \n",
    "            if i and j and dp[i][j] < dp[i - 1][j - 1] + matr[f, s]:\n",
    "                dp[i][j] = dp[i - 1, j - 1] + matr[f, s]\n",
    "                last[i][j] = (i - 1, j - 1)\n",
    "            \n",
    "            if i and dp[i][j] < dp[i - 1][j] + matr[f, '-']:\n",
    "                dp[i][j] = dp[i - 1][j] + matr[f, '-']\n",
    "                last[i][j] = (i - 1, j)\n",
    "                \n",
    "            if j and dp[i][j] < dp[i][j - 1] + matr[s, '-']:\n",
    "                dp[i][j] = dp[i][j - 1] + matr[s, '-']\n",
    "                last[i][j] = (i, j - 1)\n",
    "                \n",
    "    return dp[n][m], restore_ans(first, second, last, n, m)\n",
    "\n",
    "common = generate_sequence(ALPHABET, C)\n",
    "first = generate_sequence(ALPHABET, N1) + common + generate_sequence(ALPHABET, N2)\n",
    "second = generate_sequence(ALPHABET, M1) + common + generate_sequence(ALPHABET, M2)\n",
    "\n",
    "matr = {}\n",
    "for i in ALPHABET:\n",
    "    for j in ALPHABET:\n",
    "        if (i, j) not in matr: \n",
    "            matr[i, j] = matr[j, i] = random.randint(5, 10) if i == j else random.randint(-5, 0) \n",
    "    matr[i, '-'] = matr['-', i] = random.randint(-5, 0) \n",
    "\n",
    "for i in ALPHABET + ['-']:\n",
    "    for j in ALPHABET:\n",
    "        print('{:3} '.format(matr[i, j]), end='')\n",
    "    print()\n",
    "\n",
    "value, (first_ans, second_ans) = alignment_with_matrix(first, second, matr)\n",
    "\n",
    "print(first_ans)\n",
    "print(second_ans)\n",
    "\n",
    "equals = 0\n",
    "gaps = 0\n",
    "mismatches = 0\n",
    "real_score = 0\n",
    "for i in range(len(first_ans)):\n",
    "    if first_ans[i] == second_ans[i]:\n",
    "        equals += 1\n",
    "    elif first_ans[i] == '-' or second_ans[i] == '-':\n",
    "        gaps += 1\n",
    "    else:\n",
    "        mismatches += 1\n",
    "    real_score += matr[first_ans[i], second_ans[i]]\n",
    "    \n",
    "print('Equals = {}, gaps = {}. mismatches = {}'.format(equals, gaps, mismatches))\n",
    "print('Expected score = {}, real score = {}'.format(value, real_score))"
   ]
  },
  {
   "cell_type": "markdown",
   "metadata": {},
   "source": [
    "# HW 4"
   ]
  },
  {
   "cell_type": "code",
   "execution_count": 5,
   "metadata": {
    "collapsed": false
   },
   "outputs": [
    {
     "name": "stdout",
     "output_type": "stream",
     "text": [
      "DBCCDDCCADDDBDDDCADD\n",
      "DBCCDDCCADDDBDDDCADD\n",
      "Equals = 20, gaps = 0. mismatches = 0\n",
      "Expected score = 20.0, real score = 20.0\n"
     ]
    }
   ],
   "source": [
    "def restore_local_ans(first, second, last, dp, i, j):\n",
    "    if i or j:\n",
    "        i_last, j_last = last[i][j]\n",
    "        ans_first, ans_second = restore_local_ans(first, second, last, dp, i_last, j_last)\n",
    "        \n",
    "        if dp[i][j] == 0 and last[i][j] == (0, 0):\n",
    "            return ans_first, ans_second\n",
    "        \n",
    "        if i == i_last:\n",
    "            ans_first += '-'\n",
    "        else:\n",
    "            ans_first += first[i - 1]\n",
    "        if j == j_last:\n",
    "            ans_second += '-'\n",
    "        else:\n",
    "            ans_second += second[j - 1]\n",
    "            \n",
    "        return ans_first, ans_second\n",
    "    else:\n",
    "        return '', ''\n",
    "\n",
    "\n",
    "def local_alignment(first, second, mu, delta):\n",
    "    n = len(first)\n",
    "    m = len(second)\n",
    "    dp = np.ones((n + 1, m + 1)) * (-np.inf)\n",
    "    last = np.empty((n + 1, m + 1), dtype=tuple)\n",
    "    \n",
    "    dp[0][0] = 0\n",
    "    \n",
    "    for i in range(n + 1):\n",
    "        for j in range(m + 1):\n",
    "            dp[i][j], last[i][j] = 0, (0, 0)\n",
    "            \n",
    "            if i and j and first[i - 1] == second[j - 1] and dp[i][j] < dp[i - 1, j - 1] + 1:\n",
    "                dp[i][j] = dp[i - 1, j - 1] + 1\n",
    "                last[i][j] = (i - 1, j - 1)\n",
    "            \n",
    "            if i and j and dp[i][j] < dp[i - 1][j - 1] + delta:\n",
    "                dp[i][j] = dp[i - 1][j - 1] + delta\n",
    "                last[i][j] = (i - 1, j - 1)\n",
    "                \n",
    "            if i and dp[i][j] < dp[i - 1][j] + mu:\n",
    "                dp[i][j] = dp[i - 1][j] + mu\n",
    "                last[i][j] = (i - 1, j)\n",
    "                \n",
    "            if j and dp[i][j] < dp[i][j - 1] + mu:\n",
    "                dp[i][j] = dp[i][j - 1] + mu\n",
    "                last[i][j] = (i, j - 1)\n",
    "                \n",
    "    best_value = -np.inf\n",
    "    for i in range(n + 1):\n",
    "        for j in range(m + 1):\n",
    "            if dp[i][j] > best_value:\n",
    "                best_value = dp[i][j]\n",
    "                x, y = i, j\n",
    "                \n",
    "    return dp[x][y], restore_local_ans(first, second, last, dp, x, y)\n",
    "\n",
    "MU = -1.9\n",
    "DELTA = -1.3\n",
    "\n",
    "common = generate_sequence(ALPHABET, C)\n",
    "first  = generate_sequence(ALPHABET, N1) + common + generate_sequence(ALPHABET, N2)\n",
    "second = generate_sequence(ALPHABET, M1) + common + generate_sequence(ALPHABET, M2)\n",
    "\n",
    "value, (first_ans, second_ans) = local_alignment(first, second, MU, DELTA)\n",
    "\n",
    "print(first_ans)\n",
    "print(second_ans)\n",
    "\n",
    "\n",
    "equals = 0\n",
    "gaps = 0\n",
    "mismatches = 0\n",
    "for i in range(len(first_ans)):\n",
    "    if first_ans[i] == second_ans[i]:\n",
    "        equals += 1\n",
    "    elif first_ans[i] == '-' or second_ans[i] == '-':\n",
    "        gaps += 1\n",
    "    else:\n",
    "        mismatches += 1\n",
    "        \n",
    "print('Equals = {}, gaps = {}. mismatches = {}'.format(equals, gaps, mismatches))\n",
    "print('Expected score = {}, real score = {}'.format(value, equals + gaps * MU + mismatches * DELTA))"
   ]
  },
  {
   "cell_type": "markdown",
   "metadata": {},
   "source": [
    "# HW 5"
   ]
  },
  {
   "cell_type": "code",
   "execution_count": 6,
   "metadata": {
    "collapsed": false
   },
   "outputs": [
    {
     "name": "stdout",
     "output_type": "stream",
     "text": [
      "---DBBBDABAACABBAAACAADAADDACBBBBDC------------DBBCBDAACCADCCDBCBBDAAACAAAACA--BBDDCCACBCBDCBBA---CDAC----------CBBDCBBDC---C\n",
      "CCCABCBD-----------------DDCCBCABDCBCCDDDDDDAAADBBCBDAACCADCCDBCBBD----AAAACADDABDDCAA-------BABBBCDACADABDDDCADCDBD---DCDBBA\n",
      "Equals = 52, gaps = 64. mismatches = 9\n",
      "Expected score = 15.899999999999984, real score = 15.899999999999984\n"
     ]
    }
   ],
   "source": [
    "def restore_ans(first, second, last, pos):\n",
    "    if not last[pos] is None:\n",
    "        last_pos = last[pos]\n",
    "        \n",
    "        i, j = pos[:2]\n",
    "        i_last, j_last = last_pos[:2] \n",
    "        \n",
    "        ans_first, ans_second = restore_ans(first, second, last, last_pos)\n",
    "        \n",
    "        if i == i_last:\n",
    "            ans_first += '-'\n",
    "        else:\n",
    "            ans_first += first[i - 1]\n",
    "        if j == j_last:\n",
    "            ans_second += '-'\n",
    "        else:\n",
    "            ans_second += second[j - 1]\n",
    "            \n",
    "        return ans_first, ans_second\n",
    "    else:\n",
    "        return '', ''\n",
    "    \n",
    "def update(dp, last, value, frm, to):\n",
    "    if dp[to] < dp[frm] + value:\n",
    "        dp[to] = dp[frm] + value\n",
    "        last[to] = frm\n",
    "    \n",
    "def gaps_alignment(first, second, mu, sigma, delta):\n",
    "    n = len(first)\n",
    "    m = len(second)\n",
    "    dp = np.ones((n + 1, m + 1, 2, 2)) * (-np.inf)\n",
    "    last = np.empty((n + 1, m + 1, 2, 2), dtype=tuple)\n",
    "    \n",
    "    dp[0][0][0][0] = 0\n",
    "    \n",
    "    for i in range(n):\n",
    "        for j in range(m):\n",
    "            for is_f_gap in range(2):\n",
    "                for is_s_gap in range(2):\n",
    "                    if i < n and j < m and first[i] == second[j]:\n",
    "                        update(dp, last, 1, (i, j, is_f_gap, is_s_gap), (i + 1, j + 1, 0, 0))\n",
    "\n",
    "                    if i < n and j < m:\n",
    "                        update(dp, last, delta, (i, j, is_f_gap, is_s_gap), (i + 1, j + 1, 0, 0))\n",
    "\n",
    "                    if i < n:\n",
    "                        update(dp, last, sigma if is_f_gap else mu, (i, j, is_f_gap, is_s_gap), (i + 1, j, 1, 0))\n",
    "\n",
    "                    if j < m:\n",
    "                        update(dp, last, sigma if is_s_gap else mu, (i, j, is_f_gap, is_s_gap), (i, j + 1, 0, 1))\n",
    "\n",
    "    val = -np.inf\n",
    "    for is_f_gap in range(2):\n",
    "        for is_s_gap in range(2):\n",
    "            if dp[n][m][is_f_gap][is_s_gap] > val:\n",
    "                val = dp[n][m][is_f_gap][is_s_gap]\n",
    "                x, y = is_f_gap, is_s_gap\n",
    "                \n",
    "    return val, restore_ans(first, second, last, (n, m, x, y))\n",
    "\n",
    "MU = -1.9\n",
    "SIGMA = -0.1\n",
    "DELTA = -1.3\n",
    "\n",
    "common = generate_sequence(ALPHABET, C)\n",
    "first  = generate_sequence(ALPHABET, N1) + common + generate_sequence(ALPHABET, N2)\n",
    "second = generate_sequence(ALPHABET, M1) + common + generate_sequence(ALPHABET, M2)\n",
    "\n",
    "value, (first_ans, second_ans) = gaps_alignment(first, second, MU, SIGMA, DELTA)\n",
    "\n",
    "print(first_ans)\n",
    "print(second_ans)\n",
    "\n",
    "\n",
    "equals = 0\n",
    "gaps = 0\n",
    "mismatches = 0\n",
    "\n",
    "is_last_f_gap = False\n",
    "is_last_s_gap = False\n",
    "\n",
    "real_score = 0\n",
    "\n",
    "for i in range(len(first_ans)):\n",
    "    if first_ans[i] == '-':\n",
    "        real_score += SIGMA if is_last_f_gap else MU\n",
    "        is_last_f_gap = True\n",
    "        gaps += 1\n",
    "    else:\n",
    "        is_last_f_gap = False\n",
    "    \n",
    "    if second_ans[i] == '-':\n",
    "        real_score += SIGMA if is_last_s_gap else MU\n",
    "        is_last_s_gap = True\n",
    "        gaps += 1\n",
    "    else:\n",
    "        is_last_s_gap = False\n",
    "\n",
    "    if first_ans[i] == second_ans[i]:\n",
    "        equals += 1\n",
    "        real_score += 1\n",
    "    elif not is_last_f_gap and not is_last_s_gap:\n",
    "        mismatches += 1\n",
    "        real_score += DELTA\n",
    "        \n",
    "print('Equals = {}, gaps = {}. mismatches = {}'.format(equals, gaps, mismatches))\n",
    "print('Expected score = {}, real score = {}'.format(value, real_score))"
   ]
  },
  {
   "cell_type": "markdown",
   "metadata": {},
   "source": [
    "# HW 6"
   ]
  },
  {
   "cell_type": "code",
   "execution_count": 7,
   "metadata": {
    "collapsed": false
   },
   "outputs": [],
   "source": [
    "# print(''.join(generate_sequence(['A', 'C', 'G', 'T'], 100)))\n",
    "# print(''.join(generate_sequence(['A', 'C', 'G', 'T'], 1000)))\n",
    "# print(''.join(generate_sequence(['A', 'C', 'G', 'T'], 10000)))"
   ]
  },
  {
   "cell_type": "code",
   "execution_count": 8,
   "metadata": {
    "collapsed": false
   },
   "outputs": [
    {
     "data": {
      "text/html": [
       "<img src=\"./100.png\"/>"
      ],
      "text/plain": [
       "<IPython.core.display.Image object>"
      ]
     },
     "execution_count": 8,
     "metadata": {},
     "output_type": "execute_result"
    }
   ],
   "source": [
    "Image(url='./100.png')"
   ]
  },
  {
   "cell_type": "code",
   "execution_count": 9,
   "metadata": {
    "collapsed": false
   },
   "outputs": [
    {
     "data": {
      "text/html": [
       "<img src=\"./1000.png\"/>"
      ],
      "text/plain": [
       "<IPython.core.display.Image object>"
      ]
     },
     "execution_count": 9,
     "metadata": {},
     "output_type": "execute_result"
    }
   ],
   "source": [
    "Image(url='./1000.png')"
   ]
  },
  {
   "cell_type": "code",
   "execution_count": 10,
   "metadata": {
    "collapsed": false
   },
   "outputs": [
    {
     "data": {
      "text/html": [
       "<img src=\"./10000.png\"/>"
      ],
      "text/plain": [
       "<IPython.core.display.Image object>"
      ]
     },
     "execution_count": 10,
     "metadata": {},
     "output_type": "execute_result"
    }
   ],
   "source": [
    "Image(url='./10000.png')"
   ]
  }
 ],
 "metadata": {
  "kernelspec": {
   "display_name": "Python 3",
   "language": "python",
   "name": "python3"
  },
  "language_info": {
   "codemirror_mode": {
    "name": "ipython",
    "version": 3
   },
   "file_extension": ".py",
   "mimetype": "text/x-python",
   "name": "python",
   "nbconvert_exporter": "python",
   "pygments_lexer": "ipython3",
   "version": "3.5.1+"
  }
 },
 "nbformat": 4,
 "nbformat_minor": 0
}
